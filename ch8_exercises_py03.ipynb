{
  "nbformat": 4,
  "nbformat_minor": 0,
  "metadata": {
    "colab": {
      "name": "ch8_exercises_py03.ipynb의 사본",
      "provenance": [],
      "collapsed_sections": [],
      "include_colab_link": true
    },
    "kernelspec": {
      "name": "python3",
      "display_name": "Python 3"
    }
  },
  "cells": [
    {
      "cell_type": "markdown",
      "metadata": {
        "id": "view-in-github",
        "colab_type": "text"
      },
      "source": [
        "<a href=\"https://colab.research.google.com/github/wjddn1998/py03/blob/master/ch8_exercises_py03.ipynb\" target=\"_parent\"><img src=\"https://colab.research.google.com/assets/colab-badge.svg\" alt=\"Open In Colab\"/></a>"
      ]
    },
    {
      "cell_type": "markdown",
      "metadata": {
        "id": "ovY5jkD5dpxE",
        "colab_type": "text"
      },
      "source": [
        "# ch8_exercises.ipynb"
      ]
    },
    {
      "cell_type": "markdown",
      "metadata": {
        "id": "SZw6UnxQWYBe",
        "colab_type": "text"
      },
      "source": [
        "Q1. 문자열 바꾸기\n",
        "> 다음과 같은 문자열이 있다.\n",
        "\n",
        "```\n",
        "a:b:c:d\n",
        "```\n",
        "\n",
        "> 문자열의 split와 join 함수를 사용하여 위 문자열을 다음과 같이 고치시오.\n",
        "\n",
        "```\n",
        "a#b#c#d\n",
        "```\n"
      ]
    },
    {
      "cell_type": "code",
      "metadata": {
        "id": "rUNNaqJPdg7B",
        "colab_type": "code",
        "colab": {
          "base_uri": "https://localhost:8080/",
          "height": 35
        },
        "outputId": "96ddc42c-1590-48a0-a922-a20ff355cc4a"
      },
      "source": [
        "x = \"a:b:c:d\"\n",
        "x1 = x.split(\":\")\n",
        "x2 = \"#\".join(x1)\n",
        "print(x2)\n",
        "\n"
      ],
      "execution_count": 6,
      "outputs": [
        {
          "output_type": "stream",
          "text": [
            "a#b#c#d\n"
          ],
          "name": "stdout"
        }
      ]
    },
    {
      "cell_type": "code",
      "metadata": {
        "colab_type": "code",
        "id": "x0OIIHRmDwtd",
        "colab": {
          "base_uri": "https://localhost:8080/",
          "height": 35
        },
        "outputId": "19d2a7a2-7253-4df3-e5f6-8072c006bef9"
      },
      "source": [
        "x = \"a:b:c:d\"\n",
        "y = x.replace(\":\", \"#\")\n",
        "print(y)\n",
        "\n"
      ],
      "execution_count": 7,
      "outputs": [
        {
          "output_type": "stream",
          "text": [
            "a#b#c#d\n"
          ],
          "name": "stdout"
        }
      ]
    },
    {
      "cell_type": "markdown",
      "metadata": {
        "colab_type": "text",
        "id": "re2-XrUYXF1m"
      },
      "source": [
        "## Q2. 딕셔너리 값 추출하기\n",
        "> 다음은 딕셔너리의 a에서 'C'라는 key에 해당하는 value를 출력하는 프로그램이다.\n",
        "```\n",
        ">>> a = {'A':90, 'B':80}\n",
        ">>> a['C']\n",
        "Traceback (most recent call last):\n",
        "  File \"<stdin>\", line 1, in <module>\n",
        "KeyError: 'C'\n",
        "```\n",
        ">> a 딕셔너리에는 'C'라는 key가 없으므로 위와 같은 오류가 발생한다.  \n",
        ">>'C'에 해당하는 key 값이 없을 경우 오류 대신 70을 얻을 수 있도록 수정하시오."
      ]
    },
    {
      "cell_type": "code",
      "metadata": {
        "colab_type": "code",
        "id": "5MBLUZ5WXF1q",
        "colab": {
          "base_uri": "https://localhost:8080/",
          "height": 244
        },
        "outputId": "59bc4cda-0d78-4352-86e5-b1c97a64dd21"
      },
      "source": [
        "a = {'A':90, 'B':80}\n",
        "a['C']\n",
        "\n",
        "\n"
      ],
      "execution_count": 9,
      "outputs": [
        {
          "output_type": "error",
          "ename": "AttributeError",
          "evalue": "ignored",
          "traceback": [
            "\u001b[0;31m---------------------------------------------------------------------------\u001b[0m",
            "\u001b[0;31mAttributeError\u001b[0m                            Traceback (most recent call last)",
            "\u001b[0;32m<ipython-input-9-9b5aaa31cf7f>\u001b[0m in \u001b[0;36m<module>\u001b[0;34m()\u001b[0m\n\u001b[1;32m      1\u001b[0m \u001b[0ma\u001b[0m \u001b[0;34m=\u001b[0m \u001b[0;34m{\u001b[0m\u001b[0;34m'A'\u001b[0m\u001b[0;34m:\u001b[0m\u001b[0;36m90\u001b[0m\u001b[0;34m,\u001b[0m \u001b[0;34m'B'\u001b[0m\u001b[0;34m:\u001b[0m\u001b[0;36m80\u001b[0m\u001b[0;34m}\u001b[0m\u001b[0;34m\u001b[0m\u001b[0;34m\u001b[0m\u001b[0m\n\u001b[0;32m----> 2\u001b[0;31m \u001b[0ma\u001b[0m\u001b[0;34m.\u001b[0m\u001b[0madd\u001b[0m\u001b[0;34m(\u001b[0m\u001b[0;34m{\u001b[0m\u001b[0;34m'C'\u001b[0m\u001b[0;34m:\u001b[0m\u001b[0;36m70\u001b[0m\u001b[0;34m}\u001b[0m\u001b[0;34m)\u001b[0m\u001b[0;34m\u001b[0m\u001b[0;34m\u001b[0m\u001b[0m\n\u001b[0m\u001b[1;32m      3\u001b[0m \u001b[0ma\u001b[0m\u001b[0;34m[\u001b[0m\u001b[0;34m'C'\u001b[0m\u001b[0;34m]\u001b[0m\u001b[0;34m\u001b[0m\u001b[0;34m\u001b[0m\u001b[0m\n\u001b[1;32m      4\u001b[0m \u001b[0;34m\u001b[0m\u001b[0m\n\u001b[1;32m      5\u001b[0m \u001b[0;34m\u001b[0m\u001b[0m\n",
            "\u001b[0;31mAttributeError\u001b[0m: 'dict' object has no attribute 'add'"
          ]
        }
      ]
    },
    {
      "cell_type": "code",
      "metadata": {
        "colab_type": "code",
        "id": "viVk7IDSEQZX",
        "colab": {}
      },
      "source": [
        "# [Q2] Code-2\n",
        "\n",
        "\n"
      ],
      "execution_count": 0,
      "outputs": []
    },
    {
      "cell_type": "markdown",
      "metadata": {
        "colab_type": "text",
        "id": "UZy8lu_BXGnT"
      },
      "source": [
        "## Q3. 리스트의 더하기와 extend 함수\n",
        "> 다음과 같은 리스트 a가 있다.\n",
        "```\n",
        "a = [1, 2, 3]\n",
        "```\n",
        "> 리스트 a에 [4, 5]를 + 기호를 사용하여 더한 결과는 다음과 같다.\n",
        "```\n",
        ">>> a = [1, 2, 3]\n",
        ">>> a = a + [4,5]\n",
        ">>> a\n",
        "[1, 2, 3, 4, 5]\n",
        "```\n",
        "> 리스트 a에 [4,5]를 extend를 사용하여 더한 결과는 다음과 같다.\n",
        "```\n",
        ">>> a = [1, 2, 3]\n",
        ">>> a.extend([4, 5])\n",
        ">>> a\n",
        "[1, 2, 3, 4, 5]\n",
        "```\n",
        "\n",
        "> ### + 기호를 사용하여 더한 것과 extend한 것의 차이점이 있을까? 있다면 그 차이점을 설명하시오."
      ]
    },
    {
      "cell_type": "code",
      "metadata": {
        "colab_type": "code",
        "id": "H9T_sXHzXGnW",
        "colab": {
          "base_uri": "https://localhost:8080/",
          "height": 35
        },
        "outputId": "a20127aa-8ff2-45d9-a152-7306bfdcd7e4"
      },
      "source": [
        "a = [1, 2, 3]\n",
        "a = a + [4,5]\n",
        "\n"
      ],
      "execution_count": 10,
      "outputs": [
        {
          "output_type": "execute_result",
          "data": {
            "text/plain": [
              "[1, 2, 3, 4, 5, 4, 5]"
            ]
          },
          "metadata": {
            "tags": []
          },
          "execution_count": 10
        }
      ]
    },
    {
      "cell_type": "code",
      "metadata": {
        "id": "4L4qveJrX9eT",
        "colab_type": "code",
        "colab": {
          "base_uri": "https://localhost:8080/",
          "height": 35
        },
        "outputId": "d822452f-355d-44a7-b126-ec20bdbcb529"
      },
      "source": [
        "a = [1, 2, 3]\n",
        "a.extend([4, 5])\n",
        "a.extend([4, 5])\n",
        "a"
      ],
      "execution_count": 11,
      "outputs": [
        {
          "output_type": "execute_result",
          "data": {
            "text/plain": [
              "[1, 2, 3, 4, 5, 4, 5]"
            ]
          },
          "metadata": {
            "tags": []
          },
          "execution_count": 11
        }
      ]
    },
    {
      "cell_type": "markdown",
      "metadata": {
        "colab_type": "text",
        "id": "fqypxxqTXHY7"
      },
      "source": [
        "## Q4. 리스트 총합 구하기\n",
        "> 다음은 A학급 학생의 점수를 나타내는 리스트이다. 다음 리스트에서 50점 이상 점수의 총합을 구하시오.\n",
        "```\n",
        "A = [20, 55, 67, 82, 45, 33, 90, 87, 100, 25]\n",
        "```"
      ]
    },
    {
      "cell_type": "code",
      "metadata": {
        "colab_type": "code",
        "id": "oQ5UnmayXHY-",
        "colab": {
          "base_uri": "https://localhost:8080/",
          "height": 35
        },
        "outputId": "c71ae511-c128-4393-c275-f12bc36f0e7a"
      },
      "source": [
        "A = [20, 55, 67, 82, 45, 33, 90, 87, 100, 25]\n",
        "result = 0\n",
        "for i in A:\n",
        "    if i >= 50:\n",
        "        result += i\n",
        "\n",
        "print(result)\n"
      ],
      "execution_count": 14,
      "outputs": [
        {
          "output_type": "stream",
          "text": [
            "481\n"
          ],
          "name": "stdout"
        }
      ]
    },
    {
      "cell_type": "code",
      "metadata": {
        "colab_type": "code",
        "id": "pMQ1e6jpFomt",
        "colab": {
          "base_uri": "https://localhost:8080/",
          "height": 35
        },
        "outputId": "a0c12cc8-a405-4f5f-8b59-9e572411e3e4"
      },
      "source": [
        "A = [20, 55, 67, 82, 45, 33, 90, 87, 100, 25]\n",
        "result = 0\n",
        "result = [result + i for i in A if i >= 50]\n",
        "print(result)\n",
        "\n"
      ],
      "execution_count": 16,
      "outputs": [
        {
          "output_type": "stream",
          "text": [
            "[55, 67, 82, 90, 87, 100]\n"
          ],
          "name": "stdout"
        }
      ]
    },
    {
      "cell_type": "markdown",
      "metadata": {
        "colab_type": "text",
        "id": "NKsvciXZXIL-"
      },
      "source": [
        "## Q5. 피보나치 함수\n",
        "> 첫 번째 항의 값이 0이고 두 번째 항의 값이 1일 때, 이후에 이어지는 항은 이전의 두 항을 더한 값으로 이루어지는 수열을 피보나치 수열이라고 한다.\n",
        "```\n",
        "0, 1, 1, 2, 3, 5, 8, 13, 21, ...\n",
        "```\n",
        "> 입력을 정수 n으로 받았을 때, n 이하까지의 피보나치 수열을 출력하는 함수를 작성해 보자.\n"
      ]
    },
    {
      "cell_type": "code",
      "metadata": {
        "colab_type": "code",
        "id": "5MZQYOVjXIL_",
        "colab": {}
      },
      "source": [
        "# [Q5] Code-1\n",
        "\n"
      ],
      "execution_count": 0,
      "outputs": []
    },
    {
      "cell_type": "code",
      "metadata": {
        "colab_type": "code",
        "id": "JH2Rm_TkF_eu",
        "colab": {}
      },
      "source": [
        "# [Q5] Code-2\n",
        "\n"
      ],
      "execution_count": 0,
      "outputs": []
    },
    {
      "cell_type": "markdown",
      "metadata": {
        "colab_type": "text",
        "id": "-3KHtOOoXJBV"
      },
      "source": [
        "## Q6. 숫자의 총합 구하기\n",
        "> 사용자로부터 다음과 같은 숫자를 입력받아 입력받은 숫자의 총합을 구하는 프로그램을 작성하시오. (단 숫자는 콤마로 구분하여 입력한다.)\n",
        "\n",
        "```\n",
        "65,45,2,3,45,8\n",
        "```\n"
      ]
    },
    {
      "cell_type": "code",
      "metadata": {
        "colab_type": "code",
        "id": "AjYR0lUaXJBa",
        "colab": {}
      },
      "source": [
        "# [Q6] Code-1\n",
        "\n"
      ],
      "execution_count": 0,
      "outputs": []
    },
    {
      "cell_type": "code",
      "metadata": {
        "colab_type": "code",
        "id": "JpkVe0zxGTK1",
        "colab": {}
      },
      "source": [
        "# [Q6] Code-2\n",
        "\n"
      ],
      "execution_count": 0,
      "outputs": []
    },
    {
      "cell_type": "markdown",
      "metadata": {
        "colab_type": "text",
        "id": "CiMJjZQ_GdyV"
      },
      "source": [
        "## Q7. 한 줄 구구단\n",
        "> 사용자로부터 2~9의 숫자 중 하나를 입력받아 해당 숫자의 구구단을 한 줄로 출력하는 프로그램을 작성하시오.\n",
        "\n",
        "> 실행 예)\n",
        "```\n",
        "구구단을 출력할 숫자를 입력하세요(2~9): 2\n",
        "2 4 6 8 10 12 14 16 18\n",
        "```\n"
      ]
    },
    {
      "cell_type": "code",
      "metadata": {
        "colab_type": "code",
        "id": "_8TQZNIwGdyo",
        "colab": {}
      },
      "source": [
        "# [Q7] Code-1\n",
        "\n"
      ],
      "execution_count": 0,
      "outputs": []
    },
    {
      "cell_type": "code",
      "metadata": {
        "colab_type": "code",
        "id": "HRX-wvenGdyx",
        "colab": {}
      },
      "source": [
        "# [Q7] Code-2\n",
        "\n"
      ],
      "execution_count": 0,
      "outputs": []
    },
    {
      "cell_type": "markdown",
      "metadata": {
        "colab_type": "text",
        "id": "YrS3b88QbmKo"
      },
      "source": [
        "## Q8. 역순 저장\n",
        "> 다음과 같은 내용의 파일 abc.txt가 있다.\n",
        "```\n",
        "AAA\n",
        "BBB\n",
        "CCC\n",
        "DDD\n",
        "EEE\n",
        "```\n",
        "> 이 파일의 내용을 다음과 같이 역순으로 바꾸어 저장하시오.\n",
        "```\n",
        "EEE\n",
        "DDD\n",
        "CCC\n",
        "BBB\n",
        "AAA\n",
        "```"
      ]
    },
    {
      "cell_type": "code",
      "metadata": {
        "colab_type": "code",
        "id": "Ll_2InMWbmKq",
        "colab": {}
      },
      "source": [
        "# [Q8] Code-1\n",
        "\n"
      ],
      "execution_count": 0,
      "outputs": []
    },
    {
      "cell_type": "code",
      "metadata": {
        "colab_type": "code",
        "id": "N3uG53JsHIYX",
        "colab": {}
      },
      "source": [
        "# [Q8] Code-2\n",
        "\n"
      ],
      "execution_count": 0,
      "outputs": []
    },
    {
      "cell_type": "markdown",
      "metadata": {
        "colab_type": "text",
        "id": "OcSDHHYkK6lZ"
      },
      "source": [
        "## Q9. 평균값 구하기\n",
        "> 다음과 같이 총 10줄로 이루어진 sample.txt 파일이 있다. sample.txt 파일의 숫자 값을 모두 읽어 총합과 평균 값을 구한 후 평균 값을 result.txt 파일에 쓰는 프로그램을 작성하시오.\n",
        "```\n",
        "70\n",
        "60\n",
        "55\n",
        "75\n",
        "95\n",
        "90\n",
        "80\n",
        "80\n",
        "85\n",
        "100\n",
        "```\n"
      ]
    },
    {
      "cell_type": "code",
      "metadata": {
        "colab_type": "code",
        "id": "GmaaVGqrK6le",
        "colab": {}
      },
      "source": [
        "# [Q9] Code-1\n",
        "\n"
      ],
      "execution_count": 0,
      "outputs": []
    },
    {
      "cell_type": "code",
      "metadata": {
        "colab_type": "code",
        "id": "kgMy9LVYHfRF",
        "colab": {}
      },
      "source": [
        "# [Q9] Code-2\n",
        "\n"
      ],
      "execution_count": 0,
      "outputs": []
    },
    {
      "cell_type": "markdown",
      "metadata": {
        "colab_type": "text",
        "id": "anwB_DjuK60j"
      },
      "source": [
        "## Q10. 사칙연산 계산기\n",
        "> 다음과 같이 동작하는 클래스 Calculator를 작성하시오.\n",
        "```\n",
        ">>> cal1 = Calculator([1,2,3,4,5])\n",
        ">>> cal1.sum() # 합계\n",
        "15\n",
        ">>> cal1.avg() # 평균\n",
        "3.0\n",
        ">>> cal2 = Calculator([6,7,8,9,10])\n",
        ">>> cal2.sum() # 합계\n",
        "40\n",
        ">>> cal2.avg() # 평균\n",
        "8.0\n",
        "```\n"
      ]
    },
    {
      "cell_type": "code",
      "metadata": {
        "colab_type": "code",
        "id": "QJTNoSqtMrIM",
        "colab": {}
      },
      "source": [
        "# [Q10] Code-1\n",
        "\n"
      ],
      "execution_count": 0,
      "outputs": []
    },
    {
      "cell_type": "code",
      "metadata": {
        "colab_type": "code",
        "id": "91hia3WgH2gW",
        "colab": {}
      },
      "source": [
        "# [Q10] Code-2\n",
        "\n"
      ],
      "execution_count": 0,
      "outputs": []
    },
    {
      "cell_type": "markdown",
      "metadata": {
        "id": "gNnjBaJvH_51",
        "colab_type": "text"
      },
      "source": [
        "\n",
        "\n",
        "---\n",
        "\n",
        "\n"
      ]
    },
    {
      "cell_type": "markdown",
      "metadata": {
        "colab_type": "text",
        "id": "8xQf6xJ4K7M_"
      },
      "source": [
        "## Q11. 모듈 사용 방법\n",
        "> ./doit 디렉터리에 mymod.py 파이썬 모듈이 있다고 가정해 보자. 명령 프롬프트 창에서 파이썬 셸을 열어 이 모듈을 import해서 사용할 수 있는 방법을 모두 기술하시오. (즉 다음과 같이 import mymod를 수행할 때 오류가 없어야 한다.)\n",
        "```\n",
        ">>> import mymod\n",
        ">>>\n",
        "```"
      ]
    },
    {
      "cell_type": "code",
      "metadata": {
        "colab_type": "code",
        "id": "4zv7LXPjJiCH",
        "colab": {}
      },
      "source": [
        "!mkdir doit\n",
        "# 실행 후 새로 고침!\n",
        "# mymod.py 를 업로드한다."
      ],
      "execution_count": 0,
      "outputs": []
    },
    {
      "cell_type": "code",
      "metadata": {
        "colab_type": "code",
        "id": "JA_3n4g8JiB7",
        "colab": {}
      },
      "source": [
        "!mv mymod.py ./doit\n",
        "# 실행 후 새로 고침!"
      ],
      "execution_count": 0,
      "outputs": []
    },
    {
      "cell_type": "code",
      "metadata": {
        "colab_type": "code",
        "id": "UCO7aRh5Msx6",
        "colab": {}
      },
      "source": [
        "# [Q11] Code-1\n",
        "\n"
      ],
      "execution_count": 0,
      "outputs": []
    },
    {
      "cell_type": "code",
      "metadata": {
        "colab_type": "code",
        "id": "aX_wLb53IgUl",
        "colab": {}
      },
      "source": [
        "# [Q11] Code-2\n",
        "\n"
      ],
      "execution_count": 0,
      "outputs": []
    },
    {
      "cell_type": "markdown",
      "metadata": {
        "colab_type": "text",
        "id": "Q6QYCZ9HM3DW"
      },
      "source": [
        "## Q12. 오류와 예외 처리\n",
        "> 다음 코드의 실행 결과를 예측하고 그 이유에 대해 설명하시오.\n",
        "\n",
        "```\n",
        "result = 0\n",
        "\n",
        "try:\n",
        "    [1, 2, 3][3]\n",
        "    \"a\"+1\n",
        "    4 / 0\n",
        "except TypeError:\n",
        "    result += 1\n",
        "except ZeroDivisionError:\n",
        "    result += 2\n",
        "except IndexError:\n",
        "    result += 3\n",
        "finally:\n",
        "    result += 4\n",
        "\n",
        "print(result)\n",
        "```\n"
      ]
    },
    {
      "cell_type": "code",
      "metadata": {
        "id": "hDf0Js4KLOrl",
        "colab_type": "code",
        "colab": {}
      },
      "source": [
        "# [Q12] Explain (코드와 주석으로 설명하시오)\n",
        "\n"
      ],
      "execution_count": 0,
      "outputs": []
    },
    {
      "cell_type": "markdown",
      "metadata": {
        "colab_type": "text",
        "id": "x2IYgozSM3gd"
      },
      "source": [
        "## Q13. DashInsert 함수\n",
        "> DashInsert 함수는 숫자로 구성된 문자열을 입력받은 뒤 문자열 안에서 홀수가 연속되면 두 수 사이에 - 를 추가하고, 짝수가 연속되면 * 를 추가하는 기능을 갖고 있다. DashInsert 함수를 완성하시오.\n",
        "```\n",
        "입력 예시: 4546793\n",
        "출력 예시: 454*67-9-3\n",
        "```\n"
      ]
    },
    {
      "cell_type": "code",
      "metadata": {
        "colab_type": "code",
        "id": "FiKNOu9HM3DX",
        "colab": {}
      },
      "source": [
        "# [Q13] Code-1\n",
        "\n"
      ],
      "execution_count": 0,
      "outputs": []
    },
    {
      "cell_type": "code",
      "metadata": {
        "colab_type": "code",
        "id": "d_hmy1RZLqBg",
        "colab": {}
      },
      "source": [
        "# [Q13] Code-2\n",
        "\n"
      ],
      "execution_count": 0,
      "outputs": []
    },
    {
      "cell_type": "markdown",
      "metadata": {
        "colab_type": "text",
        "id": "HDbz71sNL2Qt"
      },
      "source": [
        "## Q14. 문자열 압축하기\n",
        "> 문자열을 입력받아 같은 문자가 연속적으로 반복되는 경우에 그 반복 횟수를 표시해 문자열을 압축하여 표시하시오.\n",
        "```\n",
        "입력 예시: aaabbcccccca\n",
        "출력 예시: a3b2c6a1\n",
        "```\n",
        "\n"
      ]
    },
    {
      "cell_type": "code",
      "metadata": {
        "colab_type": "code",
        "id": "Hs88sVjjL2Qw",
        "colab": {}
      },
      "source": [
        "# [Q14] Code-1\n",
        "\n"
      ],
      "execution_count": 0,
      "outputs": []
    },
    {
      "cell_type": "code",
      "metadata": {
        "colab_type": "code",
        "id": "XF4F0DW0L2Q1",
        "colab": {}
      },
      "source": [
        "# [Q14] Code-2\n",
        "\n"
      ],
      "execution_count": 0,
      "outputs": []
    },
    {
      "cell_type": "markdown",
      "metadata": {
        "colab_type": "text",
        "id": "tCF274jtL3Vk"
      },
      "source": [
        "## Q15. Duplicate Numbers\n",
        "> 0 ~ 9의 문자로 된 숫자를 입력받았을 때, 이 입력값이 0 ~ 9의 모든 숫자를 각각 한 번씩만 사용한 것인지 확인하는 함수를 작성하시오.\n",
        "```\n",
        "입력 예시: 0123456789 01234 01234567890 6789012345 012322456789\n",
        "출력 예시: true false false true false\n",
        "```\n"
      ]
    },
    {
      "cell_type": "code",
      "metadata": {
        "colab_type": "code",
        "id": "3uQFw6jGL3Vm",
        "colab": {}
      },
      "source": [
        "# [Q15] Code-1\n",
        "\n"
      ],
      "execution_count": 0,
      "outputs": []
    },
    {
      "cell_type": "code",
      "metadata": {
        "colab_type": "code",
        "id": "Bdt_UGgZL3Vr",
        "colab": {}
      },
      "source": [
        "# [Q15] Code-2\n",
        "\n"
      ],
      "execution_count": 0,
      "outputs": []
    },
    {
      "cell_type": "markdown",
      "metadata": {
        "colab_type": "text",
        "id": "QdPWKi1gL4UE"
      },
      "source": [
        "## Q16. 모스 부호 해독\n",
        "> 문자열 형식으로 입력받은 모스 부호(dot:. dash:-)를 해독하여 영어 문장으로 출력하는 프로그램을 작성하시오.\n",
        "\n",
        "- 글자와 글자 사이는 공백 1개, 단어와 단어 사이는 공백 2개로 구분한다.\n",
        "- 예를 들어 다음 모스 부호는 \"HE SLEEPS EARLY\"로 해석해야 한다.\n",
        "```\n",
        ".... .  ... .-.. . . .--. ...  . .- .-. .-.. -.--\n",
        "```\n",
        "> 모스부호 규칙 표\n",
        "```\n",
        "문자 부호\t문자   부호\n",
        "A\t .-\t    N\t    -.\n",
        "B\t -...\tO\t    ---\n",
        "C\t -.-.\tP\t    .--.\n",
        "D\t -..\tQ\t    --.-\n",
        "E\t .\t    R\t    .-.\n",
        "F\t ..-.\tS\t    ...\n",
        "G\t --.\tT\t    -\n",
        "H\t ....\tU\t    ..-\n",
        "I\t ..\t    V\t    ...-\n",
        "J\t .---\tW\t    .--\n",
        "K\t -.-\tX\t    -..-\n",
        "L\t .-..\tY\t    -.--\n",
        "M\t --\t    Z\t    --..\n",
        "```"
      ]
    },
    {
      "cell_type": "code",
      "metadata": {
        "colab_type": "code",
        "id": "ciZbyRFrL4UF",
        "colab": {}
      },
      "source": [
        "# [Q16] Code-1\n",
        "\n"
      ],
      "execution_count": 0,
      "outputs": []
    },
    {
      "cell_type": "code",
      "metadata": {
        "colab_type": "code",
        "id": "x9-Qq3mVL4UJ",
        "colab": {}
      },
      "source": [
        "# [Q16] Code-2\n",
        "\n"
      ],
      "execution_count": 0,
      "outputs": []
    },
    {
      "cell_type": "markdown",
      "metadata": {
        "id": "om4sRiRhMosn",
        "colab_type": "text"
      },
      "source": [
        "\n",
        "\n",
        "---\n",
        "\n",
        "# 다음 정규식 문제는 기말고사 후에 도전해 보세요."
      ]
    },
    {
      "cell_type": "markdown",
      "metadata": {
        "id": "nazB2KXYOm5R",
        "colab_type": "text"
      },
      "source": [
        "## Regular Expression\n",
        "- import re"
      ]
    },
    {
      "cell_type": "markdown",
      "metadata": {
        "colab_type": "text",
        "id": "AN8kEO30L5NE"
      },
      "source": [
        "## Q17. 기초 메타 문자\n",
        "> 다음 중 정규식 a[.]{3,}b과 매치되는 문자열은 무엇일까?\n",
        "\n",
        "\n",
        "```\n",
        "acccb\n",
        "a....b\n",
        "aaab\n",
        "a.cccb\n",
        "```\n"
      ]
    },
    {
      "cell_type": "code",
      "metadata": {
        "colab_type": "code",
        "id": "uKQWoUqhL5NG",
        "colab": {}
      },
      "source": [
        "# [Q17] Code\n",
        "\n"
      ],
      "execution_count": 0,
      "outputs": []
    },
    {
      "cell_type": "markdown",
      "metadata": {
        "colab_type": "text",
        "id": "0dEWfwATL6DE"
      },
      "source": [
        "## Q18. 문자열 검색\n",
        "> 다음 코드의 결괏값은 무엇일까?\n",
        "\n",
        "```\n",
        ">>> import re\n",
        ">>> p = re.compile(\"[a-z]+\")\n",
        ">>> m = p.search(\"5 python\")\n",
        ">>> m.start() + m.end()\n",
        "```\n"
      ]
    },
    {
      "cell_type": "code",
      "metadata": {
        "colab_type": "code",
        "id": "Ip11Dmo7L6DH",
        "colab": {}
      },
      "source": [
        "# [Q18] Code\n",
        "\n"
      ],
      "execution_count": 0,
      "outputs": []
    },
    {
      "cell_type": "markdown",
      "metadata": {
        "colab_type": "text",
        "id": "8QizaqrUL62E"
      },
      "source": [
        "## Q19. 그루핑\n",
        "> 다음과 같은 문자열에서 휴대폰 번호 뒷자리인 숫자 4개를 ####로 바꾸는 프로그램을 정규식을 사용하여 작성하시오.\n",
        "\n",
        "```\n",
        "park 010-9999-9988\n",
        "kim 010-9909-7789\n",
        "lee 010-8789-7768\n",
        "```\n"
      ]
    },
    {
      "cell_type": "code",
      "metadata": {
        "colab_type": "code",
        "id": "bfRvchIlL62H",
        "colab": {}
      },
      "source": [
        "# [Q19] Code\n",
        "\n"
      ],
      "execution_count": 0,
      "outputs": []
    },
    {
      "cell_type": "markdown",
      "metadata": {
        "colab_type": "text",
        "id": "0DumiUQoL7jk"
      },
      "source": [
        "## Q20. 전방 탐색\n",
        "> 다음은 이메일 주소를 나타내는 정규식이다. 이 정규식은 park@naver.com, kim@daum.net, lee@myhome.co.kr 등과 매치된다. 긍정형 전방 탐색 기법을 사용하여 .com, .net이 아닌 이메일 주소는 제외시키는 정규식을 작성하시오.\n",
        "\n",
        "```\n",
        ".*[@].*[.].*$\n",
        "```\n"
      ]
    },
    {
      "cell_type": "code",
      "metadata": {
        "colab_type": "code",
        "id": "9S9UUOkFL7jl",
        "colab": {}
      },
      "source": [
        "# [Q20] Code\n",
        "\n"
      ],
      "execution_count": 0,
      "outputs": []
    },
    {
      "cell_type": "markdown",
      "metadata": {
        "id": "2ljBDShkbqZO",
        "colab_type": "text"
      },
      "source": [
        "## 코딩 연습 결과를 github에 올리기\n",
        "> 완성된 ipython 노트북 파일을 각자의 github에 올리시오.\n",
        "\n",
        "- github 계정 만들기 (계정이 없는 학생)\n",
        "    1. github에 sign up (Google gmail 계정을 이용해서 만드시오.)\n",
        "- github에 노트 올리기\n",
        "    2. github에 각자의 id로 repo를 만드시오. (한번 만들면 계속 재사용)\n",
        "    3. github repo에 연습결과 노트를 올리시오.\n",
        "        - 제출노트: ch8_exercises_id.ipynb\n"
      ]
    },
    {
      "cell_type": "code",
      "metadata": {
        "id": "OnCR-YNCc8B6",
        "colab_type": "code",
        "colab": {}
      },
      "source": [
        ""
      ],
      "execution_count": 0,
      "outputs": []
    }
  ]
}