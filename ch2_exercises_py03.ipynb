# py03
Just another Repository
# ex 1
korean = 80
english = 75
math = 55
average = (korean + english + math)/3

# ex 2
a = 13
if (a % 2 == 0):
    print("짝수")
else:
    print("홀수")


# ex 3
number = "8811201068234"
number[:7]
number[6:]

# ex 4
pin = "881120-1068234"
pin[7]

s = "남성"
f'나의 성별은 {s} 입니다.'

# ex 5
a = "a:b:c:d"
a.replace(":","#")

# ex 6
a = [1,3,5,4,2]
a.sort()
a.reverse()
a

# ex 7
" ".join(['Life', 'is', 'too', 'short'])

# ex 8
t1 = (1, 2, 3)
t2 = (4,)
t1 + t2

# ex 9
a = dict()
a
{}

a['name'] = 'python'
a[('a',)] = 'python'
a[[1]] = 'python' # Type error : list

a[250] = 'python'

# ex 10
a = {'A':90, 'B':80, 'C':70}
a['B']

# ex 11
a = [1, 1, 1, 2, 2, 3, 3, 3, 4, 4, 5]
set(a)

# ex 12
a = b = [1,2,3]
a[1] = 4
print(b) # a, b가 서로 같은 메모리의 주소를 공유하기 때문이다.
